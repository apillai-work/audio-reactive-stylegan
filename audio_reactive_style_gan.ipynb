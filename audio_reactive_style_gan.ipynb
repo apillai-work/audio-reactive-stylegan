{
  "nbformat": 4,
  "nbformat_minor": 0,
  "metadata": {
    "accelerator": "GPU",
    "colab": {
      "name": "audio reactive style gan.ipynb",
      "provenance": [],
      "collapsed_sections": []
    },
    "kernelspec": {
      "display_name": "Python 3",
      "name": "python3"
    }
  },
  "cells": [
    {
      "cell_type": "markdown",
      "source": [
        "# Audio reactive StyleGAN for offbeat music videos (Rock + Experimental Music)"
      ],
      "metadata": {
        "id": "hiGDXfsBzOjz"
      }
    },
    {
      "cell_type": "markdown",
      "metadata": {
        "id": "PByrKtjcuMP8"
      },
      "source": [
        "## Installing Lucid Sonic Dreams"
      ]
    },
    {
      "cell_type": "code",
      "metadata": {
        "id": "50buTzTKOf6x"
      },
      "source": [
        "! pip install lucidsonicdreams"
      ],
      "execution_count": null,
      "outputs": []
    },
    {
      "cell_type": "markdown",
      "metadata": {
        "id": "63dO9FBu1Mv0"
      },
      "source": [
        "## Downloading a StyleGAN Model:"
      ]
    },
    {
      "cell_type": "code",
      "metadata": {
        "id": "ak17n4mm81Hm"
      },
      "source": [
        "from lucidsonicdreams import show_styles "
      ],
      "execution_count": null,
      "outputs": []
    },
    {
      "cell_type": "markdown",
      "metadata": {
        "id": "YNnHbJgB2EWk"
      },
      "source": [
        "## Making GANArt with Rock Music + Experimenting with Different Styles:\n",
        "\n",
        "The song used here was **[Burning Down the House](https://www.youtube.com/watch?v=bgJ-hyzl6jg) by Talking Heads**.\n",
        "\n",
        "Styles used: faces (ffhq config-f), maps, and wikiart from Justin Pinkney's inbuilt [Awesome Pretrained StyleGAN2](https://github.com/justinpinkney/awesome-pretrained-stylegan2). \n"
      ]
    },
    {
      "cell_type": "code",
      "source": [
        "# https://github.com/mikaelalafriz/lucid-sonic-dreams\n",
        "# WIKIART:\n",
        "# Using Default Settings \n",
        "from lucidsonicdreams import LucidSonicDream\n",
        "from google.colab import files\n",
        "\n",
        "\n",
        "L = LucidSonicDream(song = 'talkingheads.mp3',\n",
        "                    style = 'wikiart')\n",
        "\n",
        "L.hallucinate(file_name = 'th1.mp4',\n",
        "              resolution = 360,\n",
        "              duration = 9)"
      ],
      "metadata": {
        "id": "a8x_6roslDsH"
      },
      "execution_count": null,
      "outputs": []
    },
    {
      "cell_type": "code",
      "source": [
        "# https://github.com/dvschultz/lucid-sonic-dreams\n",
        "# FACES (FFHQ CONFIG-F)\n",
        "# + tuning parameters \n",
        "from lucidsonicdreams import LucidSonicDream\n",
        "\n",
        "L = LucidSonicDream(song = '/content/talkingheads.mp3', #mp3 here\n",
        "                    style = 'faces (ffhq config-f)') #pkl path here\n",
        "\n",
        "L.hallucinate(file_name = '/content/th2.mp4', #output path here\n",
        "              start = 0,\n",
        "              duration=10,  \n",
        "              speed_fpm = 12,\n",
        "              pulse_percussive = True,\n",
        "              pulse_harmonic= False,\n",
        "              pulse_react = 1.0,\n",
        "              motion_harmonic = True,\n",
        "              motion_percussive = False,\n",
        "              random_seed=1,\n",
        "              ) \n"
      ],
      "metadata": {
        "id": "enOi7ZDUl3s1"
      },
      "execution_count": null,
      "outputs": []
    },
    {
      "cell_type": "code",
      "metadata": {
        "id": "Z7DkKcO9cfM_"
      },
      "source": [
        "# https://github.com/mikaelalafriz/lucid-sonic-dreams\n",
        "# MAPS:\n",
        "# + tuning parameters  \n",
        "from lucidsonicdreams import LucidSonicDream\n",
        "from google.colab import files\n",
        "\n",
        "L = LucidSonicDream(song = 'talkingheads.mp3',\n",
        "                    style = 'maps')\n",
        "\n",
        "L.hallucinate(file_name = 'th3.mp4',\n",
        "              resolution = 360, \n",
        "              duration = 38,\n",
        "              speed_fpm = 16,\n",
        "              contrast_strength = 0.7,\n",
        "              flash_strength = 0.9)"
      ],
      "execution_count": null,
      "outputs": []
    },
    {
      "cell_type": "markdown",
      "metadata": {
        "id": "6ARd-chd2dCm"
      },
      "source": [
        "## Making GANArt with Experimental Music + Source Separation:\n",
        "\n",
        "The song used here was **[Ponyboy](https://www.youtube.com/watch?v=uERIXLWeik0) by SOPHIE**. "
      ]
    },
    {
      "cell_type": "code",
      "metadata": {
        "id": "nTd6MslThkxX"
      },
      "source": [
        "# https://github.com/mikaelalafriz/lucid-sonic-dreams\n",
        "# https://github.com/facebookresearch/demucs\n",
        "# Further Tuning parameters \n",
        "L = LucidSonicDream('ponyboy.mp3',\n",
        "                    style = 'my little pony')\n",
        "\n",
        "L.hallucinate('sophie.mp4',\n",
        "              resolution = 360,\n",
        "              duration = 10,\n",
        "              speed_fpm = 11,\n",
        "              pulse_percussive = True,\n",
        "              pulse_react = 1.0, # recommended 0-2.0\n",
        "              motion_react = 1.2,\n",
        "              contrast_percussive = False)\n"
      ],
      "execution_count": null,
      "outputs": []
    },
    {
      "cell_type": "markdown",
      "source": [
        "## Source Separation of Audio Track:\n",
        "\n",
        "Separating this track into individual tracks to see if it leads to better results - using demucs to turn the mp3 file into individual tracks."
      ],
      "metadata": {
        "id": "pnvmky8soCFt"
      }
    },
    {
      "cell_type": "code",
      "source": [
        "#https://github.com/facebookresearch/demucs\n",
        "!pip install --no-deps torchaudio==0.9.1 julius diffq\n",
        "!pip install tqdm lameenc\n",
        "!pip install --no-deps demucs"
      ],
      "metadata": {
        "id": "zAt0AXl5n6bd"
      },
      "execution_count": null,
      "outputs": []
    },
    {
      "cell_type": "code",
      "source": [
        "!python -m demucs.separate -h"
      ],
      "metadata": {
        "id": "DsMs-79fpQBD"
      },
      "execution_count": null,
      "outputs": []
    },
    {
      "cell_type": "code",
      "source": [
        "# going with the demucs_extra model\n",
        "!python -m demucs.separate \\\n",
        "-o /content/demucs_separated/ \\\n",
        "-n demucs_extra \\\n",
        "--mp3 --mp3-bitrate=320 \\\n",
        "/content/ponyboy.mp3"
      ],
      "metadata": {
        "id": "rLL9qqMspQPL"
      },
      "execution_count": null,
      "outputs": []
    },
    {
      "cell_type": "markdown",
      "source": [
        "## Reactive Motion:"
      ],
      "metadata": {
        "id": "gHE6YXK-q2tq"
      }
    },
    {
      "cell_type": "code",
      "source": [
        "# Setup\n",
        "%cd /content/\n",
        "!git clone https://github.com/dvschultz/lucid-sonic-dreams\n",
        "!pip install pygit2 mega.py ninja\n",
        "%cd /content/lucid-sonic-dreams"
      ],
      "metadata": {
        "id": "KWx9jt5RvJMz"
      },
      "execution_count": null,
      "outputs": []
    },
    {
      "cell_type": "code",
      "source": [
        "# https://github.com/dvschultz/lucid-sonic-dreams\n",
        "\n",
        "from lucidsonicdreams import LucidSonicDream\n",
        "from PIL import ImageEnhance\n",
        "\n",
        "L = LucidSonicDream(song = '/content/demucs_separated/demucs_extra/ponyboy/vocals.mp3',\n",
        "                    pulse_audio = None,\n",
        "                    motion_audio = '/content/demucs_separated/demucs_extra/ponyboy/vocals.mp3',\n",
        "                    contrast_audio = None,\n",
        "                    flash_audio = None,\n",
        "                    style = 'my little pony')\n",
        "\n",
        "L.hallucinate('sourceseparated-lsd_motion-vocals.mp4',\n",
        "              start = 0, \n",
        "              duration = 10, \n",
        "              speed_fpm = 12,\n",
        "              motion_react = 1.3,\n",
        "              truncation = 1.0,\n",
        "              pulse_react = 0.2,\n",
        "              pulse_percussive = False,\n",
        "              contrast_percussive = False,\n",
        "              fps = 24, \n",
        "              flash_percussive = False,\n",
        "              )"
      ],
      "metadata": {
        "id": "j0sh5ziFqzps"
      },
      "execution_count": null,
      "outputs": []
    },
    {
      "cell_type": "markdown",
      "source": [
        "## Reactive Pulse:"
      ],
      "metadata": {
        "id": "CSjfKeTzp1io"
      }
    },
    {
      "cell_type": "code",
      "source": [
        "# https://github.com/dvschultz/lucid-sonic-dreams\n",
        "from lucidsonicdreams import LucidSonicDream\n",
        "\n",
        "L = LucidSonicDream(song = '/content/demucs_separated/demucs_extra/ponyboy/drums.mp3',\n",
        "                    pulse_audio = '/content/demucs_separated/demucs_extra/ponyboy/drums.mp3',\n",
        "                    motion_audio = '/content/demucs_separated/demucs_extra/ponyboy/vocals.mp3',\n",
        "                    contrast_audio = None,\n",
        "                    flash_audio = None,\n",
        "                    style = 'my little pony')\n",
        "\n",
        "L.hallucinate('/content/sourceseparated-lsd_pulse-drums-2.0.mp4',\n",
        "              start = 0, \n",
        "              duration = 10, \n",
        "              speed_fpm = 13, \n",
        "              pulse_react = 1.5, # 0-2.0\n",
        "              motion_react = 0.1,\n",
        "              contrast_percussive = False,\n",
        "              fps = 24, \n",
        "              flash_percussive = False,\n",
        "              )"
      ],
      "metadata": {
        "id": "7k_PulyCp2A9"
      },
      "execution_count": null,
      "outputs": []
    }
  ]
}